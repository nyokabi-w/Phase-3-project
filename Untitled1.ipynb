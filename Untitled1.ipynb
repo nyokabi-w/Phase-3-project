{
 "cells": [
  {
   "cell_type": "code",
   "execution_count": null,
   "id": "26d76f39",
   "metadata": {},
   "outputs": [],
   "source": [
    "\"hi\""
   ]
  },
  {
   "cell_type": "code",
   "execution_count": null,
   "id": "1d153045",
   "metadata": {},
   "outputs": [],
   "source": []
  }
 ],
 "metadata": {
  "kernelspec": {
   "display_name": "Python (learn-env)",
   "language": "python",
   "name": "learn-env"
  }
 },
 "nbformat": 4,
 "nbformat_minor": 5
}
